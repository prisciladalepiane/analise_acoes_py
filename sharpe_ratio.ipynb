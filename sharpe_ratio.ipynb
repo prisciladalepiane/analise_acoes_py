{
 "cells": [
  {
   "cell_type": "markdown",
   "metadata": {},
   "source": [
    "### Sharpe Ratio \n",
    "O Sharpe Ratio mede o retorno adicional de um investimento em relação ao ativo sem risco (geralmente títulos do governo), ajustado pelo risco total (volatilidade).\n",
    "Fórmula:\n",
    "\n",
    "SharpeRatio = $\\frac{Retorno_p - Riskfree}{\\sigma^2}$\n",
    "\n",
    "​\n",
    "Retorno do Portfólio: Média dos retornos do investimento.\n",
    "\n",
    "Risk-free: Retorno garantido por um ativo seguro, como títulos do Tesouro.\n",
    "\n",
    "Desvio Padrão: Mede a volatilidade total dos retornos do investimento (positivos e negativos).\n",
    "Interpretação:\n",
    "\n",
    "Um Sharpe Ratio mais alto indica que o investimento está gerando retornos maiores por unidade de risco total.\n",
    "Valores típicos:\n",
    "\n",
    "$> 1$: Bom desempenho. \n",
    "\n",
    "$> 2$: Excelente desempenho.\n",
    "\n",
    "$ <1$: Desempenho subótimo, assumindo mais risco para os retornos obtidos.\n",
    "\n",
    "### Sortino Ratio \n",
    "O Sortino Ratio é uma variação do Sharpe Ratio que foca apenas na volatilidade negativa (ou \"risco de queda\"). Ele ignora a volatilidade positiva, considerando que retornos acima da média não devem ser tratados como risco.\n",
    "\n",
    "Um Sortino Ratio mais alto indica que o investimento está gerando bons retornos sem grandes quedas.\n",
    "Valores típicos seguem uma interpretação semelhante ao Sharpe Ratio, mas oferecem uma visão mais focada no risco de perdas.\n",
    "Vantagem sobre o Sharpe Ratio: Como ignora a volatilidade positiva, o Sortino Ratio é mais útil para investidores que se preocupam principalmente com o risco de perder dinheiro.\n",
    "\n",
    "\n"
   ]
  },
  {
   "cell_type": "code",
   "execution_count": 2,
   "metadata": {},
   "outputs": [],
   "source": [
    "#!pip install quantstats"
   ]
  },
  {
   "cell_type": "code",
   "execution_count": 5,
   "metadata": {},
   "outputs": [],
   "source": [
    "#!pip install yfinance"
   ]
  },
  {
   "cell_type": "code",
   "execution_count": null,
   "metadata": {},
   "outputs": [],
   "source": [
    "import numpy as np\n",
    "import pandas as pd\n",
    "import yfinance as yf\n",
    "import quantstats as qs\n",
    "from scipy import stats\n",
    "import plotly.express as px\n",
    "import plotly.graph_objects as go\n",
    "from plotly.subplots import make_subplots"
   ]
  }
 ],
 "metadata": {
  "kernelspec": {
   "display_name": "base",
   "language": "python",
   "name": "python3"
  },
  "language_info": {
   "codemirror_mode": {
    "name": "ipython",
    "version": 3
   },
   "file_extension": ".py",
   "mimetype": "text/x-python",
   "name": "python",
   "nbconvert_exporter": "python",
   "pygments_lexer": "ipython3",
   "version": "3.9.13"
  }
 },
 "nbformat": 4,
 "nbformat_minor": 2
}
